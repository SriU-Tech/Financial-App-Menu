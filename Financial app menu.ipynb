{
 "cells": [
  {
   "cell_type": "code",
   "execution_count": 1,
   "id": "542fc002-4d3a-4dfa-984d-d53458ce881e",
   "metadata": {},
   "outputs": [
    {
     "data": {
      "text/plain": [
       "'\\nCalculate annuity with monthly or continuous growth\\nCalculate monthly mortgage payment\\nEstimate retirement investment balance\\nDetermine how long until an amount doubles, given the rate\\nSolve logarithmic equations\\nConvert to (and from) scientific notation'"
      ]
     },
     "execution_count": 1,
     "metadata": {},
     "output_type": "execute_result"
    }
   ],
   "source": [
    "#Build a financial app that does all of the following:\n",
    "'''\n",
    "Calculate annuity with monthly or continuous growth\n",
    "Calculate monthly mortgage payment\n",
    "Estimate retirement investment balance\n",
    "Determine how long until an amount doubles, given the rate\n",
    "Solve logarithmic equations\n",
    "Convert to (and from) scientific notation'''"
   ]
  },
  {
   "cell_type": "code",
   "execution_count": 2,
   "id": "be3faf37-746f-4d75-a6cf-44f00b24f18a",
   "metadata": {},
   "outputs": [
    {
     "name": "stdout",
     "output_type": "stream",
     "text": [
      "\n",
      "=== Financial App Menu ===\n",
      "1. Calculate Annuity (Monthly or Continuous)\n",
      "2. Calculate Monthly Mortgage Payment\n",
      "3. Estimate Retirement Investment Balance\n",
      "4. Time to Double Investment (Continuous Growth)\n",
      "5. Solve a Logarithmic Equation\n",
      "6. Convert Scientific Notation\n",
      "7. Exit\n"
     ]
    },
    {
     "name": "stdin",
     "output_type": "stream",
     "text": [
      "Enter your choice (1–7):  7\n"
     ]
    },
    {
     "name": "stdout",
     "output_type": "stream",
     "text": [
      "Goodbye!\n"
     ]
    }
   ],
   "source": [
    "import math\n",
    "\n",
    "def calculate_annuity():\n",
    "    print(\"\\n=== Annuity Calculator ===\")\n",
    "    annuity_type = input(\"Type 'monthly' or 'continuous' growth: \").strip().lower()\n",
    "    P = float(input(\"Enter the monthly contribution: \"))\n",
    "    r = float(input(\"Enter the annual interest rate (%): \")) / 100\n",
    "    t = float(input(\"Enter the number of years: \"))\n",
    "    \n",
    "    if annuity_type == 'monthly':\n",
    "        n = 12\n",
    "        future_value = P * (((1 + r/n) ** (n*t) - 1) / (r/n))\n",
    "    elif annuity_type == 'continuous':\n",
    "        future_value = P * (math.exp(r * t) - 1) / r\n",
    "    else:\n",
    "        print(\"Invalid annuity type.\")\n",
    "        return\n",
    "\n",
    "    print(f\"Future value of your annuity: ${future_value:.2f}\")\n",
    "\n",
    "def calculate_mortgage():\n",
    "    print(\"\\n=== Mortgage Calculator ===\")\n",
    "    loan = float(input(\"Enter loan amount: \"))\n",
    "    annual_rate = float(input(\"Enter annual interest rate (%): \")) / 100\n",
    "    years = int(input(\"Enter loan term (years): \"))\n",
    "    r = annual_rate / 12\n",
    "    n = years * 12\n",
    "    if r == 0:\n",
    "        payment = loan / n\n",
    "    else:\n",
    "        payment = loan * (r * (1 + r)**n) / ((1 + r)**n - 1)\n",
    "    print(f\"Monthly mortgage payment: ${payment:.2f}\")\n",
    "\n",
    "def estimate_retirement_balance():\n",
    "    print(\"\\n=== Retirement Investment Estimator ===\")\n",
    "    initial = float(input(\"Enter initial investment: \"))\n",
    "    monthly = float(input(\"Enter monthly contribution: \"))\n",
    "    r = float(input(\"Enter annual interest rate (%): \")) / 100\n",
    "    years = int(input(\"Enter investment period (years): \"))\n",
    "    n = 12\n",
    "    total_months = years * n\n",
    "    balance = initial * (1 + r/n)**total_months\n",
    "    balance += monthly * (((1 + r/n)**total_months - 1) / (r/n))\n",
    "    print(f\"Estimated retirement balance: ${balance:.2f}\")\n",
    "\n",
    "def time_to_double():\n",
    "    print(\"\\n=== Time to Double Investment ===\")\n",
    "    r = float(input(\"Enter annual interest rate (%): \")) / 100\n",
    "    if r <= 0:\n",
    "        print(\"Interest rate must be greater than 0.\")\n",
    "        return\n",
    "    t = math.log(2) / r\n",
    "    print(f\"Time to double: {t:.2f} years\")\n",
    "\n",
    "def solve_log_equation():\n",
    "    print(\"\\n=== Logarithmic Equation Solver ===\")\n",
    "    base = float(input(\"Enter base of the logarithm: \"))\n",
    "    result = float(input(\"Enter the result of the logarithm (log_b(x) = result): \"))\n",
    "    if base <= 0 or base == 1:\n",
    "        print(\"Base must be > 0 and ≠ 1.\")\n",
    "        return\n",
    "    x = base ** result\n",
    "    print(f\"The solution to log base {base} of x = {result} is: x = {x:.4f}\")\n",
    "\n",
    "def convert_scientific_notation():\n",
    "    print(\"\\n=== Scientific Notation Converter ===\")\n",
    "    choice = input(\"Type 'to' to convert to scientific notation, or 'from' to convert from: \").strip().lower()\n",
    "    if choice == 'to':\n",
    "        num = float(input(\"Enter a number: \"))\n",
    "        print(f\"{num:.6e}\")\n",
    "    elif choice == 'from':\n",
    "        sci = input(\"Enter number in scientific notation (e.g. 1.23e4): \")\n",
    "        try:\n",
    "            num = float(sci)\n",
    "            print(f\"Decimal form: {num}\")\n",
    "        except ValueError:\n",
    "            print(\"Invalid scientific notation format.\")\n",
    "    else:\n",
    "        print(\"Invalid choice.\")\n",
    "\n",
    "def main():\n",
    "    while True:\n",
    "        print(\"\\n=== Financial App Menu ===\")\n",
    "        print(\"1. Calculate Annuity (Monthly or Continuous)\")\n",
    "        print(\"2. Calculate Monthly Mortgage Payment\")\n",
    "        print(\"3. Estimate Retirement Investment Balance\")\n",
    "        print(\"4. Time to Double Investment (Continuous Growth)\")\n",
    "        print(\"5. Solve a Logarithmic Equation\")\n",
    "        print(\"6. Convert Scientific Notation\")\n",
    "        print(\"7. Exit\")\n",
    "        choice = input(\"Enter your choice (1–7): \")\n",
    "\n",
    "        if choice == '1':\n",
    "            calculate_annuity()\n",
    "        elif choice == '2':\n",
    "            calculate_mortgage()\n",
    "        elif choice == '3':\n",
    "            estimate_retirement_balance()\n",
    "        elif choice == '4':\n",
    "            time_to_double()\n",
    "        elif choice == '5':\n",
    "            solve_log_equation()\n",
    "        elif choice == '6':\n",
    "            convert_scientific_notation()\n",
    "        elif choice == '7':\n",
    "            print(\"Goodbye!\")\n",
    "            break\n",
    "        else:\n",
    "            print(\"Invalid choice. Try again.\")\n",
    "\n",
    "# Run the financial app\n",
    "main()"
   ]
  },
  {
   "cell_type": "code",
   "execution_count": null,
   "id": "e36a2075-0c0d-48bb-8fb5-cb08ced339bc",
   "metadata": {},
   "outputs": [],
   "source": []
  }
 ],
 "metadata": {
  "kernelspec": {
   "display_name": "Python 3 (ipykernel)",
   "language": "python",
   "name": "python3"
  },
  "language_info": {
   "codemirror_mode": {
    "name": "ipython",
    "version": 3
   },
   "file_extension": ".py",
   "mimetype": "text/x-python",
   "name": "python",
   "nbconvert_exporter": "python",
   "pygments_lexer": "ipython3",
   "version": "3.12.9"
  }
 },
 "nbformat": 4,
 "nbformat_minor": 5
}
